{
 "cells": [
  {
   "cell_type": "code",
   "execution_count": 1,
   "id": "b3b538a2-56d3-4575-b478-75336634834b",
   "metadata": {},
   "outputs": [],
   "source": [
    "# Import the necessay modules\n",
    "import torch \n",
    "import torch.nn as nn\n",
    "import torch.optim as optim\n",
    "import torchvision.transforms as transforms\n",
    "import torchvision.models as models\n",
    "from torchvision.utils import save_image\n",
    "from PIL import Image"
   ]
  },
  {
   "cell_type": "code",
   "execution_count": 2,
   "id": "8988a528-1e97-40e2-99ba-950b1f99211b",
   "metadata": {},
   "outputs": [
    {
     "name": "stderr",
     "output_type": "stream",
     "text": [
      "/opt/anaconda3/lib/python3.11/site-packages/torchvision/models/_utils.py:208: UserWarning: The parameter 'pretrained' is deprecated since 0.13 and may be removed in the future, please use 'weights' instead.\n",
      "  warnings.warn(\n",
      "/opt/anaconda3/lib/python3.11/site-packages/torchvision/models/_utils.py:223: UserWarning: Arguments other than a weight enum or `None` for 'weights' are deprecated since 0.13 and may be removed in the future. The current behavior is equivalent to passing `weights=VGG19_Weights.IMAGENET1K_V1`. You can also use `weights=VGG19_Weights.DEFAULT` to get the most up-to-date weights.\n",
      "  warnings.warn(msg)\n",
      "Downloading: \"https://download.pytorch.org/models/vgg19-dcbb9e9d.pth\" to /Users/mohitsharma/.cache/torch/hub/checkpoints/vgg19-dcbb9e9d.pth\n",
      "100%|████████████████████████████████████████| 548M/548M [02:11<00:00, 4.37MB/s]\n"
     ]
    },
    {
     "data": {
      "text/plain": [
       "Sequential(\n",
       "  (0): Conv2d(3, 64, kernel_size=(3, 3), stride=(1, 1), padding=(1, 1))\n",
       "  (1): ReLU(inplace=True)\n",
       "  (2): Conv2d(64, 64, kernel_size=(3, 3), stride=(1, 1), padding=(1, 1))\n",
       "  (3): ReLU(inplace=True)\n",
       "  (4): MaxPool2d(kernel_size=2, stride=2, padding=0, dilation=1, ceil_mode=False)\n",
       "  (5): Conv2d(64, 128, kernel_size=(3, 3), stride=(1, 1), padding=(1, 1))\n",
       "  (6): ReLU(inplace=True)\n",
       "  (7): Conv2d(128, 128, kernel_size=(3, 3), stride=(1, 1), padding=(1, 1))\n",
       "  (8): ReLU(inplace=True)\n",
       "  (9): MaxPool2d(kernel_size=2, stride=2, padding=0, dilation=1, ceil_mode=False)\n",
       "  (10): Conv2d(128, 256, kernel_size=(3, 3), stride=(1, 1), padding=(1, 1))\n",
       "  (11): ReLU(inplace=True)\n",
       "  (12): Conv2d(256, 256, kernel_size=(3, 3), stride=(1, 1), padding=(1, 1))\n",
       "  (13): ReLU(inplace=True)\n",
       "  (14): Conv2d(256, 256, kernel_size=(3, 3), stride=(1, 1), padding=(1, 1))\n",
       "  (15): ReLU(inplace=True)\n",
       "  (16): Conv2d(256, 256, kernel_size=(3, 3), stride=(1, 1), padding=(1, 1))\n",
       "  (17): ReLU(inplace=True)\n",
       "  (18): MaxPool2d(kernel_size=2, stride=2, padding=0, dilation=1, ceil_mode=False)\n",
       "  (19): Conv2d(256, 512, kernel_size=(3, 3), stride=(1, 1), padding=(1, 1))\n",
       "  (20): ReLU(inplace=True)\n",
       "  (21): Conv2d(512, 512, kernel_size=(3, 3), stride=(1, 1), padding=(1, 1))\n",
       "  (22): ReLU(inplace=True)\n",
       "  (23): Conv2d(512, 512, kernel_size=(3, 3), stride=(1, 1), padding=(1, 1))\n",
       "  (24): ReLU(inplace=True)\n",
       "  (25): Conv2d(512, 512, kernel_size=(3, 3), stride=(1, 1), padding=(1, 1))\n",
       "  (26): ReLU(inplace=True)\n",
       "  (27): MaxPool2d(kernel_size=2, stride=2, padding=0, dilation=1, ceil_mode=False)\n",
       "  (28): Conv2d(512, 512, kernel_size=(3, 3), stride=(1, 1), padding=(1, 1))\n",
       "  (29): ReLU(inplace=True)\n",
       "  (30): Conv2d(512, 512, kernel_size=(3, 3), stride=(1, 1), padding=(1, 1))\n",
       "  (31): ReLU(inplace=True)\n",
       "  (32): Conv2d(512, 512, kernel_size=(3, 3), stride=(1, 1), padding=(1, 1))\n",
       "  (33): ReLU(inplace=True)\n",
       "  (34): Conv2d(512, 512, kernel_size=(3, 3), stride=(1, 1), padding=(1, 1))\n",
       "  (35): ReLU(inplace=True)\n",
       "  (36): MaxPool2d(kernel_size=2, stride=2, padding=0, dilation=1, ceil_mode=False)\n",
       ")"
      ]
     },
     "execution_count": 2,
     "metadata": {},
     "output_type": "execute_result"
    }
   ],
   "source": [
    "# Check the vgg model layers\n",
    "model = models.vgg19(pretrained =True).features\n",
    "model"
   ]
  },
  {
   "cell_type": "code",
   "execution_count": 3,
   "id": "8878e13e-cb45-43c5-8d23-cbc3977c694d",
   "metadata": {},
   "outputs": [],
   "source": [
    "# Defining the network\n",
    "class VGG(nn.Module):\n",
    "    def __init__(self):\n",
    "        super(VGG,self).__init__()\n",
    "        self.chosen_features =['1','5','10','19','28']\n",
    "        self.model =models.vgg19(pretrained=True).features[:29]\n",
    "\n",
    "    def forward(self,x):\n",
    "        features =[]\n",
    "        for layer_num,layer in enumerate(self.model):\n",
    "            x=layer(x)\n",
    "            if(str(layer_num) in self.chosen_features):\n",
    "                features.append(x)\n",
    "        return features"
   ]
  },
  {
   "cell_type": "code",
   "execution_count": 4,
   "id": "283bcac5-3f53-4c7b-a397-86f35c2f17fc",
   "metadata": {},
   "outputs": [],
   "source": [
    "#  Image Loading \n",
    "def load_image(image_name):\n",
    "    image =Image.open(image_name)\n",
    "    image =loader(image).unsqueeze(0)\n",
    "    return image.to(device)\n",
    "\n",
    "device = torch.device(\"cuda\" if torch.cuda.is_available() else \"cpu\")\n",
    "\n",
    "image_size = 256\n",
    "\n",
    "loader =transforms.Compose(\n",
    "    [\n",
    "        transforms.Resize((image_size,image_size)),\n",
    "        transforms.ToTensor(),\n",
    "        # transforms.Normalize(mean=[],std=[])\n",
    "    ]\n",
    ")\n",
    "model =VGG().to(device).eval()"
   ]
  },
  {
   "cell_type": "code",
   "execution_count": 6,
   "id": "060dcd0f-a92a-4b0e-8298-16fc3d7d0c2b",
   "metadata": {},
   "outputs": [],
   "source": [
    "# Defining the original immage ad the style image\n",
    "original_image =load_image(\"Images/pexels-olly-846741.jpg\")\n",
    "style_image =load_image(\"Images/Ute Herrmann  Galleri Habs A_S  Midtjyllands Kunst Center.jpeg\")\n",
    "# generated =torch.randn(original_image.shape,device=device,requires_grad=True)\n",
    "generated =original_image.clone().requires_grad_(True)"
   ]
  },
  {
   "cell_type": "code",
   "execution_count": 7,
   "id": "eb4676f3-e54c-4bc6-8282-515935b99180",
   "metadata": {},
   "outputs": [],
   "source": [
    "#  Hyperparameters\n",
    "total_steps =6000\n",
    "learning_rate =0.001\n",
    "alpha =1\n",
    "beta =0.01\n",
    "\n",
    "# Optimizer\n",
    "optimizer =optim.Adam([generated],lr =learning_rate)"
   ]
  },
  {
   "cell_type": "code",
   "execution_count": null,
   "id": "426a629e-1c47-44f8-8b46-1025de109d5a",
   "metadata": {},
   "outputs": [
    {
     "name": "stdout",
     "output_type": "stream",
     "text": [
      "tensor(82596.7891, grad_fn=<AddBackward0>)\n",
      "tensor(10417.4268, grad_fn=<AddBackward0>)\n",
      "tensor(6534.3311, grad_fn=<AddBackward0>)\n"
     ]
    }
   ],
   "source": [
    "# Training Loop\n",
    "for step in range(total_steps):\n",
    "    original_features =model(original_image)\n",
    "    generated_features =model(generated)\n",
    "    style_features =model(style_image)\n",
    "\n",
    "    style_loss =original_loss =0\n",
    "    for org_feature ,gen_feature, style_feature in zip(original_features, generated_features,style_features):\n",
    "        batch_size, channel, height, width =gen_feature.shape\n",
    "        original_loss += torch.mean((gen_feature -org_feature)**2)\n",
    "\n",
    "        # Compute Gram Matrix\n",
    "        G =gen_feature.view(channel, height*width).mm(\n",
    "            gen_feature.view(channel, height*width).t()\n",
    "        )\n",
    "        A =style_feature.view(channel, height*width).mm(\n",
    "            style_feature.view(channel, height*width).t()\n",
    "        )\n",
    "        style_loss += torch.mean((G-A)**2)\n",
    "\n",
    "    total_loss = alpha*original_loss + beta*style_loss\n",
    "    optimizer.zero_grad()\n",
    "    total_loss.backward()\n",
    "    optimizer.step()\n",
    "\n",
    "    if step%100 ==0:\n",
    "        print(total_loss)\n",
    "        save_image(generated,\"Generated.png\")"
   ]
  },
  {
   "cell_type": "code",
   "execution_count": null,
   "id": "fafd8133-9994-4932-be9b-2d38bccf2ca2",
   "metadata": {},
   "outputs": [],
   "source": []
  }
 ],
 "metadata": {
  "kernelspec": {
   "display_name": "Python 3 (ipykernel)",
   "language": "python",
   "name": "python3"
  },
  "language_info": {
   "codemirror_mode": {
    "name": "ipython",
    "version": 3
   },
   "file_extension": ".py",
   "mimetype": "text/x-python",
   "name": "python",
   "nbconvert_exporter": "python",
   "pygments_lexer": "ipython3",
   "version": "3.11.8"
  }
 },
 "nbformat": 4,
 "nbformat_minor": 5
}
